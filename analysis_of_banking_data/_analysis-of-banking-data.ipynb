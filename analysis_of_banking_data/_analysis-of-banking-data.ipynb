{
 "cells": [
  {
   "cell_type": "markdown",
   "metadata": {},
   "source": [
    "## Start of the project.\n",
    "### Initial data inspection."
   ]
  },
  {
   "cell_type": "code",
   "execution_count": 1,
   "metadata": {},
   "outputs": [
    {
     "name": "stdout",
     "output_type": "stream",
     "text": [
      "<class 'pandas.core.frame.DataFrame'>\n",
      "RangeIndex: 21525 entries, 0 to 21524\n",
      "Data columns (total 12 columns):\n",
      "children            21525 non-null int64\n",
      "days_employed       19351 non-null float64\n",
      "dob_years           21525 non-null int64\n",
      "education           21525 non-null object\n",
      "education_id        21525 non-null int64\n",
      "family_status       21525 non-null object\n",
      "family_status_id    21525 non-null int64\n",
      "gender              21525 non-null object\n",
      "income_type         21525 non-null object\n",
      "debt                21525 non-null int64\n",
      "total_income        19351 non-null float64\n",
      "purpose             21525 non-null object\n",
      "dtypes: float64(2), int64(5), object(5)\n",
      "memory usage: 2.0+ MB\n"
     ]
    }
   ],
   "source": [
    "import pandas as pd\n",
    "from pymystem3 import Mystem\n",
    "from collections import Counter\n",
    "m = Mystem()\n",
    "\n",
    "data = pd.read_csv('/datasets/data.csv')\n",
    "data['education'] = data['education'].str.lower() \n",
    "data.info()\n",
    "\n",
    "#data.head(10)"
   ]
  },
  {
   "cell_type": "markdown",
   "metadata": {},
   "source": [
    "We import the libraries pandas, pymystem3, and collections, which we will need later.\n",
    "\n",
    "Arter that we create a variable data in which we place the table with data, which we read using the .read_csv method.\n",
    "\n",
    "For convenience, we convert the data in the 'education' column to lowercase so as not to be too distracting during the data analysis process.\n",
    "\n",
    "We output general information about the data in the file. We observe pronounced discrepancies in the number of entries for 2 columns.\n",
    "\n",
    "We display the first 10 rows on the screen to get an overall picture."
   ]
  },
  {
   "cell_type": "markdown",
   "metadata": {},
   "source": [
    "## Data Preprocessing."
   ]
  },
  {
   "cell_type": "markdown",
   "metadata": {},
   "source": [
    "### Handling gaps in table data."
   ]
  },
  {
   "cell_type": "code",
   "execution_count": 2,
   "metadata": {},
   "outputs": [
    {
     "name": "stderr",
     "output_type": "stream",
     "text": [
      "/opt/conda/lib/python3.7/site-packages/pandas/core/ops/__init__.py:1115: FutureWarning: elementwise comparison failed; returning scalar instead, but in the future will perform elementwise comparison\n",
      "  result = method(y)\n"
     ]
    },
    {
     "data": {
      "text/plain": [
       "1"
      ]
     },
     "execution_count": 2,
     "metadata": {},
     "output_type": "execute_result"
    }
   ],
   "source": [
    "data['days_employed'].isna().sum()\n",
    "data['total_income'].isna().sum()\n",
    "\n",
    "\n",
    "data_whith_none = data.loc[(data['days_employed'] == '') & (data['total_income'] == '')].count()\n",
    "\n",
    "data = data.drop_duplicates()\n",
    "data.groupby('income_type')['total_income'].describe()\n",
    "\n",
    "data['days_employed'] = data['days_employed'].fillna(value = 0)\n",
    "data['total_income'] = data['total_income'].fillna(value = 0)\n",
    "\n",
    "data['family_status_id'].describe()\n",
    "data['family_status_id'].value_counts()\n",
    "\n",
    "data['children'] = data['children'].replace(-1, 1)\n",
    "data['children'] = data['children'].replace(20, 2)\n",
    "data['dob_years'] = data['dob_years'].replace(0, data['dob_years'].mean())\n",
    "\n",
    "\n",
    "def days_employed_fill (row):\n",
    "    income_type_row = row['income_type']\n",
    "    days_employed_row = row['days_employed']\n",
    "    if income_type_row == 'пенсионер' and days_employed_row == 0:\n",
    "        return 365213.306266\n",
    "    elif income_type_row == 'студент' and days_employed_row == 0:\n",
    "        return -578.751554\n",
    "    elif income_type_row == 'безработный' and days_employed_row == 0:\n",
    "        return 366413.652744\n",
    "    elif income_type_row == 'в декрете' and days_employed_row == 0:\n",
    "        return -3296.759962\n",
    "    elif income_type_row == 'госслужащий' and days_employed_row == 0:\n",
    "        return -2689.368353\n",
    "    elif income_type_row == 'компаньон' and days_employed_row == 0:\n",
    "        return 172357.950966\n",
    "    elif income_type_row == 'предприниматель' and days_employed_row == 0:\n",
    "        return -520.848083\n",
    "    elif income_type_row == 'сотрудник' and days_employed_row == 0:\n",
    "        return -1574.202821\n",
    "    else:\n",
    "        return days_employed_row\n",
    "\n",
    "data['days_employed'] = data.apply(days_employed_fill ,axis = 1)\n",
    "\n",
    "def total_income_fill (row):\n",
    "    income_type_row = row['income_type']\n",
    "    total_income_row = row['total_income']\n",
    "    if income_type_row == 'пенсионер' and total_income_row == 0:\n",
    "        return 118514.486412\n",
    "    elif income_type_row == 'студент' and total_income_row == 0:\n",
    "        return 98201.625314\n",
    "    elif income_type_row == 'безработный' and total_income_row == 0:\n",
    "        return 131339.751676\n",
    "    elif income_type_row == 'в декрете' and total_income_row == 0:\n",
    "        return 53829.130729\n",
    "    elif income_type_row == 'госслужащий' and total_income_row == 0:\n",
    "        return 150447.935283\n",
    "    elif income_type_row == 'компаньон' and total_income_row == 0:\n",
    "        return 172357.950966\n",
    "    elif income_type_row == 'предприниматель' and total_income_row == 0:\n",
    "        return 499163.144947\n",
    "    elif income_type_row == 'сотрудник' and total_income_row == 0:\n",
    "        return 142594.396847\n",
    "    else:\n",
    "        return total_income_row\n",
    "\n",
    "data['total_income'] = data.apply(total_income_fill, axis = 1)\n",
    "\n",
    "\n",
    "#print(2174 / 21525 *100)\n",
    "\n",
    "data['gender'].max()\n",
    "\n",
    "data['gender'].loc[data['gender'] == 'XNA'].count()\n",
    "\n",
    "\n",
    "\n",
    "#data['days_employed'].describe()"
   ]
  },
  {
   "cell_type": "markdown",
   "metadata": {},
   "source": [
    "Conclusion:\n",
    "•  In both columns ('days_employed' and 'total_income'), there are 2174 missing values. Using the .loc attribute, which is commented out later, it was revealed that these are the same rows.\n",
    "\n",
    "•  To fill in the empty rows in these two columns, median values were chosen because the average of 172 years of employment looks quite implausible.\n",
    "\n",
    "•  The sequence of actions proposed in the plan was slightly violated, and duplicates were removed at this stage. This was done so that subsequent replacement of missing values with average or median values would not distort the final data (the number of duplicates is 71).\n",
    "\n",
    "•  Empty values in the columns ('days_employed' and 'total_income') were filled with median values in order not to lose 10.09% of the data in case of their complete removal."
   ]
  },
  {
   "cell_type": "markdown",
   "metadata": {},
   "source": [
    "### Data type replacement"
   ]
  },
  {
   "cell_type": "code",
   "execution_count": 3,
   "metadata": {},
   "outputs": [
    {
     "name": "stdout",
     "output_type": "stream",
     "text": [
      "<class 'pandas.core.frame.DataFrame'>\n",
      "Int64Index: 21454 entries, 0 to 21524\n",
      "Data columns (total 12 columns):\n",
      "children            21454 non-null int64\n",
      "days_employed       21454 non-null int64\n",
      "dob_years           21454 non-null int64\n",
      "education           21454 non-null object\n",
      "education_id        21454 non-null int64\n",
      "family_status       21454 non-null object\n",
      "family_status_id    21454 non-null int64\n",
      "gender              21454 non-null object\n",
      "income_type         21454 non-null object\n",
      "debt                21454 non-null int64\n",
      "total_income        21454 non-null int64\n",
      "purpose             21454 non-null object\n",
      "dtypes: int64(7), object(5)\n",
      "memory usage: 2.1+ MB\n"
     ]
    }
   ],
   "source": [
    "data['total_income'] = data['total_income'].astype(int)\n",
    "data['days_employed'] = data['days_employed'].astype(int)\n",
    "data['dob_years'] = data['dob_years'].astype(int)\n",
    "\n",
    "\n",
    "data.info()"
   ]
  },
  {
   "cell_type": "markdown",
   "metadata": {},
   "source": [
    "Conclusion:\n",
    "•  Unusual cases across several columns were identified using the \"min, max, and unique\" methods.\n",
    "\n",
    "•  There are 101 instances of zero values in the age column; the number of children as -1 and 20 (47 and 76 instances respectively); one instance of an unclear gender \"XNA\".\n",
    "\n",
    "\n",
    "•  The gaps in the columns for employment duration and monthly income were filled with zero values.\n",
    "\n",
    "•  After that, two functions were written, which, based on the employment type column, fill in the zero values in the columns with 50% of the sample values (identified earlier using the describe() method).\n",
    "\n",
    "•  The .describe() and .value_counts() methods revealed zero values in the clients' age column (replaced with the average age as it does not participate in further calculations), the number of children \"-1\" was replaced with \"1\", and \"20\" with \"2\" (presumably an error related to human factors was made)."
   ]
  },
  {
   "cell_type": "markdown",
   "metadata": {},
   "source": []
  },
  {
   "cell_type": "markdown",
   "metadata": {},
   "source": [
    "### Duplicate processing"
   ]
  },
  {
   "cell_type": "code",
   "execution_count": 4,
   "metadata": {},
   "outputs": [
    {
     "data": {
      "text/plain": [
       "0"
      ]
     },
     "execution_count": 4,
     "metadata": {},
     "output_type": "execute_result"
    }
   ],
   "source": [
    "data.duplicated().sum()"
   ]
  },
  {
   "cell_type": "markdown",
   "metadata": {},
   "source": [
    "Duplicates were processed earlier in the 'Data Preprocessing' section.\n",
    "\n",
    "A count of duplicates in the table was performed (value \"0\")."
   ]
  },
  {
   "cell_type": "markdown",
   "metadata": {},
   "source": [
    "### Lemmatization."
   ]
  },
  {
   "cell_type": "markdown",
   "metadata": {},
   "source": [
    "We perform lemmatization on the 'purpose' column to standardize the words using the text_for_lemmatize function, which takes a string as an argument. It then returns the column value.\n",
    "\n",
    "We add a new column to the main data table to record the lemmatized 'purpose' column. The argument is the lemmatization function mentioned above."
   ]
  },
  {
   "cell_type": "code",
   "execution_count": 5,
   "metadata": {},
   "outputs": [],
   "source": [
    "def text_for_lemmatize(row):\n",
    "    return m.lemmatize(row['purpose'])  \n",
    "\n",
    "data['lemmas'] = data.apply(text_for_lemmatize, axis=1) "
   ]
  },
  {
   "cell_type": "markdown",
   "metadata": {},
   "source": []
  },
  {
   "cell_type": "markdown",
   "metadata": {},
   "source": []
  },
  {
   "cell_type": "markdown",
   "metadata": {},
   "source": [
    "### Data Categorization"
   ]
  },
  {
   "cell_type": "code",
   "execution_count": 6,
   "metadata": {},
   "outputs": [],
   "source": [
    "def purpose_category(row):   \n",
    "    lemmas = row['lemmas']\n",
    "    if 'жилье' in lemmas or 'недвижимость' in lemmas or 'квартира' in lemmas:\n",
    "        return 'недвижимость'\n",
    "    elif 'автомобиль' in lemmas:\n",
    "        return 'автомобиль'\n",
    "    elif 'образование' in lemmas:\n",
    "        return 'образование'\n",
    "    elif 'свадьба' in lemmas:\n",
    "        return 'свадьба'\n",
    "    \n",
    "data['purpose_category'] = data.apply(purpose_category, axis = 1)\n",
    "\n",
    "def total_income_category(row):\n",
    "    row = row['total_income']\n",
    "    if row < 145000:\n",
    "        return 'ниже среднего'\n",
    "    elif 145001 < row < 300000:\n",
    "        return 'средний'\n",
    "    else:\n",
    "        return 'выше среднего'\n",
    "    \n",
    "data['total_income_category'] = data.apply(total_income_category, axis = 1)  \n",
    "\n",
    "\n",
    "def children_category (row):  \n",
    "    row = row['children']\n",
    "    if row == 0:\n",
    "        return 'без детей'\n",
    "    elif 1 <= row <= 2:\n",
    "        return 'семья с детьми'\n",
    "    elif 3 <= row < 6:\n",
    "        return 'многодетные'\n",
    "    else:\n",
    "        return 'over многодетные'\n",
    "    \n",
    "data['children_category'] = data.apply(children_category, axis = 1) \n",
    "\n"
   ]
  },
  {
   "cell_type": "markdown",
   "metadata": {},
   "source": [
    "Writing a function to categorize a new column with lemmas. The categories were identified earlier using the .unique() method.\n",
    "\n",
    "Adding a column to the general table with categories for the purposes of obtaining a loan. The argument is a function for categorizing previously obtained lemmas.\n",
    "\n",
    "A function for categorizing income level. Three categories: 'below average,' 'average,' and 'above average,' were chosen by me as the most commonly encountered for describing incomes. The initial threshold value was chosen based on the median value with a step of X2.\n",
    "\n",
    "Adding a column to the general table with data with categories of income levels. The argument is a function for categorizing the income level.\n",
    "\n",
    "Writing a function to break down the number of children into categories."
   ]
  },
  {
   "cell_type": "code",
   "execution_count": 7,
   "metadata": {},
   "outputs": [
    {
     "data": {
      "text/plain": [
       "ниже среднего    11130\n",
       "средний           8841\n",
       "выше среднего     1483\n",
       "Name: total_income_category, dtype: int64"
      ]
     },
     "execution_count": 7,
     "metadata": {},
     "output_type": "execute_result"
    }
   ],
   "source": [
    "data['total_income_category'].value_counts()"
   ]
  },
  {
   "cell_type": "markdown",
   "metadata": {},
   "source": [
    "### Answers to questions posed to me before completing the project"
   ]
  },
  {
   "cell_type": "markdown",
   "metadata": {},
   "source": [
    "1. Is there a relationship between having children and repaying the loan on time?"
   ]
  },
  {
   "cell_type": "code",
   "execution_count": 8,
   "metadata": {},
   "outputs": [
    {
     "name": "stdout",
     "output_type": "stream",
     "text": [
      "debt                   0     1  percentage_return\n",
      "children_category                                \n",
      "без детей          13028  1063          92.456178\n",
      "многодетные          349    31          91.842105\n",
      "семья с детьми      6336   647          90.734641\n"
     ]
    }
   ],
   "source": [
    "data_pivot_children = data.pivot_table(index = ['children_category'], columns='debt', values= 'total_income', aggfunc= 'count')\n",
    "\n",
    "data_pivot_children['percentage_return'] = data_pivot_children[0] / (data_pivot_children[0] + data_pivot_children[1]) * 100\n",
    "\n",
    "print(data_pivot_children)"
   ]
  },
  {
   "cell_type": "markdown",
   "metadata": {},
   "source": [
    "### Conclusion"
   ]
  },
  {
   "cell_type": "markdown",
   "metadata": {},
   "source": [
    "Constructing a pivot table to determine the relationship between having children and timely repayment of loans. Grouping by the column with categories of the number of children, the column with values indicating who repaid the loan on time and who did not, values - the number of people by the income column.\n",
    "\n",
    "Adding to the pivot table a column with the percentage ratio of cases of timely money return to the total number by the category of having children.\n",
    "\n",
    "The highest percentage of repayment is among families without children because it is much easier for them to manage the household budget and, as a consequence, to repay the loan on time.\n",
    "\n",
    "Families with a large number of children, although they apply for loans less frequently, also have the lowest percentage of on-time repayment."
   ]
  },
  {
   "cell_type": "markdown",
   "metadata": {},
   "source": [
    "2. Is there a relationship between marital status and repayment of the loan on time?\"\n"
   ]
  },
  {
   "cell_type": "code",
   "execution_count": 9,
   "metadata": {},
   "outputs": [
    {
     "data": {
      "text/html": [
       "<div>\n",
       "<style scoped>\n",
       "    .dataframe tbody tr th:only-of-type {\n",
       "        vertical-align: middle;\n",
       "    }\n",
       "\n",
       "    .dataframe tbody tr th {\n",
       "        vertical-align: top;\n",
       "    }\n",
       "\n",
       "    .dataframe thead th {\n",
       "        text-align: right;\n",
       "    }\n",
       "</style>\n",
       "<table border=\"1\" class=\"dataframe\">\n",
       "  <thead>\n",
       "    <tr style=\"text-align: right;\">\n",
       "      <th></th>\n",
       "      <th>debt</th>\n",
       "      <th>0</th>\n",
       "      <th>1</th>\n",
       "      <th>percentage_return</th>\n",
       "    </tr>\n",
       "    <tr>\n",
       "      <th>family_status_id</th>\n",
       "      <th>family_status</th>\n",
       "      <th></th>\n",
       "      <th></th>\n",
       "      <th></th>\n",
       "    </tr>\n",
       "  </thead>\n",
       "  <tbody>\n",
       "    <tr>\n",
       "      <td>0</td>\n",
       "      <td>женат / замужем</td>\n",
       "      <td>11408</td>\n",
       "      <td>931</td>\n",
       "      <td>92.454818</td>\n",
       "    </tr>\n",
       "    <tr>\n",
       "      <td>1</td>\n",
       "      <td>гражданский брак</td>\n",
       "      <td>3763</td>\n",
       "      <td>388</td>\n",
       "      <td>90.652855</td>\n",
       "    </tr>\n",
       "    <tr>\n",
       "      <td>2</td>\n",
       "      <td>вдовец / вдова</td>\n",
       "      <td>896</td>\n",
       "      <td>63</td>\n",
       "      <td>93.430657</td>\n",
       "    </tr>\n",
       "    <tr>\n",
       "      <td>3</td>\n",
       "      <td>в разводе</td>\n",
       "      <td>1110</td>\n",
       "      <td>85</td>\n",
       "      <td>92.887029</td>\n",
       "    </tr>\n",
       "    <tr>\n",
       "      <td>4</td>\n",
       "      <td>Не женат / не замужем</td>\n",
       "      <td>2536</td>\n",
       "      <td>274</td>\n",
       "      <td>90.249110</td>\n",
       "    </tr>\n",
       "  </tbody>\n",
       "</table>\n",
       "</div>"
      ],
      "text/plain": [
       "debt                                        0    1  percentage_return\n",
       "family_status_id family_status                                       \n",
       "0                женат / замужем        11408  931          92.454818\n",
       "1                гражданский брак        3763  388          90.652855\n",
       "2                вдовец / вдова           896   63          93.430657\n",
       "3                в разводе               1110   85          92.887029\n",
       "4                Не женат / не замужем   2536  274          90.249110"
      ]
     },
     "execution_count": 9,
     "metadata": {},
     "output_type": "execute_result"
    }
   ],
   "source": [
    "data_family_status = data.pivot_table(index = ['family_status_id', 'family_status'], columns = 'debt', values= 'total_income', aggfunc='count')\n",
    "\n",
    "data_family_status['percentage_return'] = data_family_status[0] / (data_family_status[0] + data_family_status[1]) * 100\n",
    "\n",
    "data_family_status"
   ]
  },
  {
   "cell_type": "markdown",
   "metadata": {},
   "source": [
    "### Conclusion"
   ]
  },
  {
   "cell_type": "markdown",
   "metadata": {},
   "source": [
    "Constructing a pivot table to determine the relationship between marital status and timely repayment of loans. Grouping by columns with family status ID and the family status itself, the column with values indicating who repaid the loan on time and who did not, values - the number of people by the income column.\n",
    "\n",
    "Adding to the pivot table a column with the percentage ratio of cases of timely money return to the total number by the category of marital status.\n",
    "\n",
    "The highest percentage of loan repayment was shown by the category 'widower / widow'. Judging by the total number of loan applications from this group of people, they need financial resources less than others and, as a consequence, experience the least problems with their repayment."
   ]
  },
  {
   "cell_type": "markdown",
   "metadata": {},
   "source": [
    "3. Is there a relationship between income level and repayment of the loan on time?"
   ]
  },
  {
   "cell_type": "code",
   "execution_count": 10,
   "metadata": {},
   "outputs": [
    {
     "data": {
      "text/html": [
       "<div>\n",
       "<style scoped>\n",
       "    .dataframe tbody tr th:only-of-type {\n",
       "        vertical-align: middle;\n",
       "    }\n",
       "\n",
       "    .dataframe tbody tr th {\n",
       "        vertical-align: top;\n",
       "    }\n",
       "\n",
       "    .dataframe thead th {\n",
       "        text-align: right;\n",
       "    }\n",
       "</style>\n",
       "<table border=\"1\" class=\"dataframe\">\n",
       "  <thead>\n",
       "    <tr style=\"text-align: right;\">\n",
       "      <th>debt</th>\n",
       "      <th>0</th>\n",
       "      <th>1</th>\n",
       "      <th>percentage_return</th>\n",
       "    </tr>\n",
       "    <tr>\n",
       "      <th>total_income_category</th>\n",
       "      <th></th>\n",
       "      <th></th>\n",
       "      <th></th>\n",
       "    </tr>\n",
       "  </thead>\n",
       "  <tbody>\n",
       "    <tr>\n",
       "      <td>выше среднего</td>\n",
       "      <td>1377</td>\n",
       "      <td>106</td>\n",
       "      <td>92.852326</td>\n",
       "    </tr>\n",
       "    <tr>\n",
       "      <td>средний</td>\n",
       "      <td>8143</td>\n",
       "      <td>698</td>\n",
       "      <td>92.104966</td>\n",
       "    </tr>\n",
       "    <tr>\n",
       "      <td>ниже среднего</td>\n",
       "      <td>10193</td>\n",
       "      <td>937</td>\n",
       "      <td>91.581312</td>\n",
       "    </tr>\n",
       "  </tbody>\n",
       "</table>\n",
       "</div>"
      ],
      "text/plain": [
       "debt                       0    1  percentage_return\n",
       "total_income_category                               \n",
       "выше среднего           1377  106          92.852326\n",
       "средний                 8143  698          92.104966\n",
       "ниже среднего          10193  937          91.581312"
      ]
     },
     "execution_count": 10,
     "metadata": {},
     "output_type": "execute_result"
    }
   ],
   "source": [
    "data_total_income_category = data.pivot_table(index=['total_income_category'], columns='debt', values='total_income', aggfunc='count')\n",
    "\n",
    "data_total_income_category['percentage_return'] = data_total_income_category[0] / (data_total_income_category[0] + data_total_income_category[1]) * 100\n",
    "data_total_income_category.sort_values('percentage_return', ascending= False)"
   ]
  },
  {
   "cell_type": "markdown",
   "metadata": {},
   "source": [
    "### Conclusion"
   ]
  },
  {
   "cell_type": "markdown",
   "metadata": {},
   "source": [
    "Constructing a pivot table to determine the relationship between income level and timely repayment of loans. Grouping by the column with income level categories, the column with values indicating who repaid the loan on time and who did not, values - the number of people by the income column.\n",
    "\n",
    "The highest percentage was shown by the category of people with 'above average' income levels.\n",
    "\n",
    "I assume that people with high income levels find it easier to find funds to repay loans compared to the other two categories. Linear progression confirms this."
   ]
  },
  {
   "cell_type": "markdown",
   "metadata": {},
   "source": []
  },
  {
   "cell_type": "markdown",
   "metadata": {},
   "source": [
    "## Final conclusion on the project"
   ]
  },
  {
   "cell_type": "markdown",
   "metadata": {},
   "source": [
    "Based on the calculations for the given questions, the following conclusions can be drawn:\n",
    "\n",
    "•  The level of income of the borrower has the least impact on the timely repayment of the loan.\n",
    "\n",
    "•  The greatest discrepancy within the defined categories was shown by the metric with marital status.\n",
    "\n",
    "•  In none of the categories was there a case of failure to repay the loan on time with a probability lower than 89.47%."
   ]
  }
 ],
 "metadata": {
  "kernelspec": {
   "display_name": "Python 3",
   "language": "python",
   "name": "python3"
  },
  "language_info": {
   "codemirror_mode": {
    "name": "ipython",
    "version": 3
   },
   "file_extension": ".py",
   "mimetype": "text/x-python",
   "name": "python",
   "nbconvert_exporter": "python",
   "pygments_lexer": "ipython3",
   "version": "3.7.6"
  }
 },
 "nbformat": 4,
 "nbformat_minor": 2
}
