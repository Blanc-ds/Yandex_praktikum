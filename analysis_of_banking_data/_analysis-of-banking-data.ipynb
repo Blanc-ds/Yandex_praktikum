{
 "cells": [
  {
   "cell_type": "markdown",
   "metadata": {},
   "source": [
    
   ]
  },
  {
   "cell_type": "code",
   "execution_count": 1,
   "metadata": {},
   "outputs": [
    {
     "name": "stdout",
     "output_type": "stream",
     "text": [
      "<class 'pandas.core.frame.DataFrame'>\n",
      "RangeIndex: 21525 entries, 0 to 21524\n",
      "Data columns (total 12 columns):\n",
      "children            21525 non-null int64\n",
      "days_employed       19351 non-null float64\n",
      "dob_years           21525 non-null int64\n",
      "education           21525 non-null object\n",
      "education_id        21525 non-null int64\n",
      "family_status       21525 non-null object\n",
      "family_status_id    21525 non-null int64\n",
      "gender              21525 non-null object\n",
      "income_type         21525 non-null object\n",
      "debt                21525 non-null int64\n",
      "total_income        19351 non-null float64\n",
      "purpose             21525 non-null object\n",
      "dtypes: float64(2), int64(5), object(5)\n",
      "memory usage: 2.0+ MB\n"
     ]
    }
   ],
   "source": [
    "import pandas as pd\n",
    "from pymystem3 import Mystem\n",
    "from collections import Counter\n",
    "m = Mystem()\n",
    "\n",
    "data = pd.read_csv('/datasets/data.csv')\n",
    "data['education'] = data['education'].str.lower() \n",
    "data.info()\n",
    "\n",
    "#data.head(10)"
   ]
  },
  {
   "cell_type": "markdown",
   "metadata": {},
   "source": [
    "### Вывод"
   ]
  },
  {
   "cell_type": "markdown",
   "metadata": {},
   "source": [
    "Добрый день!\n",
    "Импортируем библиотеки pandas, pymystem3 и collection, которые нам потребуются далее.\n",
    "\n",
    "Создаем переменную data в которую помещаем таблицу с данными, которую мы читаем методом .read_csv.\n",
    "\n",
    "Для удобства приравниваем в нижнему регистру данные из столбца \"education\" чтобы не сильно отвлекало в процессе изучения данных.\n",
    "\n",
    "Выводим общую информацию по данным в файле. Наблюдаем ярко выраженные расхождения в количестве по 2 столбцам.\n",
    "\n",
    "Выводим на экран первые 10 строк для представление общей картины."
   ]
  },
  {
   "cell_type": "markdown",
   "metadata": {},
   "source": [
    "### Шаг 2. Предобработка данных"
   ]
  },
  {
   "cell_type": "markdown",
   "metadata": {},
   "source": [
    "### Обработка пропусков"
   ]
  },
  {
   "cell_type": "code",
   "execution_count": 2,
   "metadata": {},
   "outputs": [
    {
     "name": "stderr",
     "output_type": "stream",
     "text": [
      "/opt/conda/lib/python3.7/site-packages/pandas/core/ops/__init__.py:1115: FutureWarning: elementwise comparison failed; returning scalar instead, but in the future will perform elementwise comparison\n",
      "  result = method(y)\n"
     ]
    },
    {
     "data": {
      "text/plain": [
       "1"
      ]
     },
     "execution_count": 2,
     "metadata": {},
     "output_type": "execute_result"
    }
   ],
   "source": [
    "data['days_employed'].isna().sum()\n",
    "data['total_income'].isna().sum()\n",
    "\n",
    "\n",
    "data_whith_none = data.loc[(data['days_employed'] == '') & (data['total_income'] == '')].count()\n",
    "\n",
    "data = data.drop_duplicates()\n",
    "data.groupby('income_type')['total_income'].describe()\n",
    "\n",
    "data['days_employed'] = data['days_employed'].fillna(value = 0)\n",
    "data['total_income'] = data['total_income'].fillna(value = 0)\n",
    "\n",
    "data['family_status_id'].describe()\n",
    "data['family_status_id'].value_counts()\n",
    "\n",
    "data['children'] = data['children'].replace(-1, 1)\n",
    "data['children'] = data['children'].replace(20, 2)\n",
    "data['dob_years'] = data['dob_years'].replace(0, data['dob_years'].mean())\n",
    "\n",
    "\n",
    "def days_employed_fill (row):\n",
    "    income_type_row = row['income_type']\n",
    "    days_employed_row = row['days_employed']\n",
    "    if income_type_row == 'пенсионер' and days_employed_row == 0:\n",
    "        return 365213.306266\n",
    "    elif income_type_row == 'студент' and days_employed_row == 0:\n",
    "        return -578.751554\n",
    "    elif income_type_row == 'безработный' and days_employed_row == 0:\n",
    "        return 366413.652744\n",
    "    elif income_type_row == 'в декрете' and days_employed_row == 0:\n",
    "        return -3296.759962\n",
    "    elif income_type_row == 'госслужащий' and days_employed_row == 0:\n",
    "        return -2689.368353\n",
    "    elif income_type_row == 'компаньон' and days_employed_row == 0:\n",
    "        return 172357.950966\n",
    "    elif income_type_row == 'предприниматель' and days_employed_row == 0:\n",
    "        return -520.848083\n",
    "    elif income_type_row == 'сотрудник' and days_employed_row == 0:\n",
    "        return -1574.202821\n",
    "    else:\n",
    "        return days_employed_row\n",
    "\n",
    "data['days_employed'] = data.apply(days_employed_fill ,axis = 1)\n",
    "\n",
    "def total_income_fill (row):\n",
    "    income_type_row = row['income_type']\n",
    "    total_income_row = row['total_income']\n",
    "    if income_type_row == 'пенсионер' and total_income_row == 0:\n",
    "        return 118514.486412\n",
    "    elif income_type_row == 'студент' and total_income_row == 0:\n",
    "        return 98201.625314\n",
    "    elif income_type_row == 'безработный' and total_income_row == 0:\n",
    "        return 131339.751676\n",
    "    elif income_type_row == 'в декрете' and total_income_row == 0:\n",
    "        return 53829.130729\n",
    "    elif income_type_row == 'госслужащий' and total_income_row == 0:\n",
    "        return 150447.935283\n",
    "    elif income_type_row == 'компаньон' and total_income_row == 0:\n",
    "        return 172357.950966\n",
    "    elif income_type_row == 'предприниматель' and total_income_row == 0:\n",
    "        return 499163.144947\n",
    "    elif income_type_row == 'сотрудник' and total_income_row == 0:\n",
    "        return 142594.396847\n",
    "    else:\n",
    "        return total_income_row\n",
    "\n",
    "data['total_income'] = data.apply(total_income_fill, axis = 1)\n",
    "\n",
    "\n",
    "#print(2174 / 21525 *100)\n",
    "\n",
    "data['gender'].max()\n",
    "\n",
    "data['gender'].loc[data['gender'] == 'XNA'].count()\n",
    "\n",
    "\n",
    "\n",
    "#data['days_employed'].describe()"
   ]
  },
  {
   "cell_type": "markdown",
   "metadata": {},
   "source": [
    "### Вывод\n",
    "#В обоих столбцах ('days_employed' и 'total_income')2174 пропущенных значения. При помощи атрибута .loc, закоментированного далее, было выявлено что это одни и теже строки.\n",
    "\n",
    "#Для заполнения пустых строк в этих двух столбцах были выбраны медианые значения т.к. средние 172 года трудового стажа выглядят совсем неправдоподобно. \n",
    "\n",
    "#Немного нарушена последовательность действий, предложенная в плане, и дубликаты были удалены на данном этапе. Сделано это для того чтобы при последующей замене пропущенных значений на усредненые или медианые значения не вызвать искажение итоговых данных(кол-во дупликатов 71).\n",
    "\n",
    "#Заполнение пустых значенийв столбцах ('days_employed' и 'total_income') медиаными значениями для того чтобы не терять 10.09% данных в случае их полного удаления.\n",
    "\n",
    "\n",
    "Предположительно артефакты:\n",
    "#Методами \"min\\ max и unique\" выявлены необычные случаи по ряду столбцов\n",
    "#нулевые значения в графе с возрастом в количестве 101 случия; количество детей -1 и 20 (47 и 76 случия соответственно); непонятный пол \"XNA\" - 1 случай.\n",
    "\n",
    "##\n",
    "Пропуски в графах с трудовым стажем и ежемесячным доходом были заполнены нулевыми значениями.\n",
    "\n",
    "После чего было написаное две функции, которые, ориентируясь на столбец с типом занятости проставляет в нулевые значения по столбцам значения 50% выборки(выявлены ранее методом describe()). \n",
    "\n",
    "Методами .describe() и .value_counts() были выявлены 0-е значения в столбце с возрастом клиентов(заменены на средний возраст т.к. далее в расчетах не участвует), количество детей \"-1\" заменено на \"1\", а \"20\" на \"2\"(предположительно была допущена ошибка связанная с человеческим фактором)\n",
    "\n"
   ]
  },
  {
   "cell_type": "markdown",
   "metadata": {},
   "source": [
    "### Замена типа данных"
   ]
  },
  {
   "cell_type": "code",
   "execution_count": 3,
   "metadata": {},
   "outputs": [
    {
     "name": "stdout",
     "output_type": "stream",
     "text": [
      "<class 'pandas.core.frame.DataFrame'>\n",
      "Int64Index: 21454 entries, 0 to 21524\n",
      "Data columns (total 12 columns):\n",
      "children            21454 non-null int64\n",
      "days_employed       21454 non-null int64\n",
      "dob_years           21454 non-null int64\n",
      "education           21454 non-null object\n",
      "education_id        21454 non-null int64\n",
      "family_status       21454 non-null object\n",
      "family_status_id    21454 non-null int64\n",
      "gender              21454 non-null object\n",
      "income_type         21454 non-null object\n",
      "debt                21454 non-null int64\n",
      "total_income        21454 non-null int64\n",
      "purpose             21454 non-null object\n",
      "dtypes: int64(7), object(5)\n",
      "memory usage: 2.1+ MB\n"
     ]
    }
   ],
   "source": [
    "data['total_income'] = data['total_income'].astype(int)\n",
    "data['days_employed'] = data['days_employed'].astype(int)\n",
    "data['dob_years'] = data['dob_years'].astype(int)\n",
    "\n",
    "\n",
    "data.info()"
   ]
  },
  {
   "cell_type": "markdown",
   "metadata": {},
   "source": [
    "### Вывод\n"
   ]
  },
  {
   "cell_type": "markdown",
   "metadata": {},
   "source": [
    "#Замена вещественного типа данных на целочисленный.\n",
    "#to_numeric не подходил т.к. при его использовании числа будут иметь тип float (как у исходных данных).\n",
    "\n",
    "##\n",
    "Произведена целочисленная замена в столбцах с общим трудовым стажем, ежемесячным доходом и возрастом.\n"
   ]
  },
  {
   "cell_type": "markdown",
   "metadata": {},
   "source": [
    "### Обработка дубликатов"
   ]
  },
  {
   "cell_type": "code",
   "execution_count": 4,
   "metadata": {},
   "outputs": [
    {
     "data": {
      "text/plain": [
       "0"
      ]
     },
     "execution_count": 4,
     "metadata": {},
     "output_type": "execute_result"
    }
   ],
   "source": [
    "data.duplicated().sum()"
   ]
  },
  {
   "cell_type": "markdown",
   "metadata": {},
   "source": [
    "### Вывод"
   ]
  },
  {
   "cell_type": "markdown",
   "metadata": {},
   "source": [
    "Дубликаты были обработаны ранее в части \"Обработка пропусков\".\n",
    "##\n",
    "Произведен подсчет дупликатов в таблице(значение \"0\")."
   ]
  },
  {
   "cell_type": "markdown",
   "metadata": {},
   "source": [
    "### Лемматизация"
   ]
  },
  {
   "cell_type": "code",
   "execution_count": 5,
   "metadata": {},
   "outputs": [],
   "source": [
    "def text_for_lemmatize(row):\n",
    "    return m.lemmatize(row['purpose'])  \n",
    "\n",
    "data['lemmas'] = data.apply(text_for_lemmatize, axis=1) "
   ]
  },
  {
   "cell_type": "markdown",
   "metadata": {},
   "source": [
    "### Вывод"
   ]
  },
  {
   "cell_type": "markdown",
   "metadata": {},
   "source": [
    "#Проводим лемматизацию столбца \"purpose\" для приведения слов к единообразию при помощи функции text_for_lemmatize, которая принимает строку как аргумент. После чего возвращает значение столбща.\n",
    "\n",
    "#Добавляем новый столбец в основную таблицу с данными для записи подверженного лематизации столбца \"purpose\". аргументом выступает функция для лемматизации выше.\n"
   ]
  },
  {
   "cell_type": "markdown",
   "metadata": {},
   "source": [
    "### Категоризация данных"
   ]
  },
  {
   "cell_type": "code",
   "execution_count": 6,
   "metadata": {},
   "outputs": [],
   "source": [
    "def purpose_category(row):   \n",
    "    lemmas = row['lemmas']\n",
    "    if 'жилье' in lemmas or 'недвижимость' in lemmas or 'квартира' in lemmas:\n",
    "        return 'недвижимость'\n",
    "    elif 'автомобиль' in lemmas:\n",
    "        return 'автомобиль'\n",
    "    elif 'образование' in lemmas:\n",
    "        return 'образование'\n",
    "    elif 'свадьба' in lemmas:\n",
    "        return 'свадьба'\n",
    "    \n",
    "data['purpose_category'] = data.apply(purpose_category, axis = 1)\n",
    "\n",
    "def total_income_category(row):\n",
    "    row = row['total_income']\n",
    "    if row < 145000:\n",
    "        return 'ниже среднего'\n",
    "    elif 145001 < row < 300000:\n",
    "        return 'средний'\n",
    "    else:\n",
    "        return 'выше среднего'\n",
    "    \n",
    "data['total_income_category'] = data.apply(total_income_category, axis = 1)  \n",
    "\n",
    "\n",
    "def children_category (row):  \n",
    "    row = row['children']\n",
    "    if row == 0:\n",
    "        return 'без детей'\n",
    "    elif 1 <= row <= 2:\n",
    "        return 'семья с детьми'\n",
    "    elif 3 <= row < 6:\n",
    "        return 'многодетные'\n",
    "    else:\n",
    "        return 'over многодетные'\n",
    "    \n",
    "data['children_category'] = data.apply(children_category, axis = 1) \n",
    "\n"
   ]
  },
  {
   "cell_type": "markdown",
   "metadata": {},
   "source": [
    "### Вывод"
   ]
  },
  {
   "cell_type": "markdown",
   "metadata": {},
   "source": [
    "#Пишем функцию для категоризации нового столбца с леммами. Категории были выявлены ранее методом .unique(). \n",
    "\n",
    "#Добавление столбца в общую таблицу с категориями целей получения кредита. Аргументом выступает функция для категоризации полученных ранее лемм.\n",
    "\n",
    "#Функция для категоризации уровня дохода. Три категории: \"ниже среднего\", \"средний\" и \"выше среднего\", были выбраны мною как наиболее часто встречающиеся для описания доходов. Начальное пороговое значение было выбрано исходя из медианого значения с шагом Х2.\n",
    "\n",
    "#Добавление столбца в общую таблицу с данными с категориями уровня доходов. Аргументом выступает функция для категоризации уровня дохода.\n",
    "\n",
    "\n",
    "#Пишем функцию для разбивки количества детей на категории.\n",
    "\n",
    "#Добавляем в общую таблицу столбец с категориями по количеству детей в семье.\n"
   ]
  },
  {
   "cell_type": "code",
   "execution_count": 7,
   "metadata": {},
   "outputs": [
    {
     "data": {
      "text/plain": [
       "ниже среднего    11130\n",
       "средний           8841\n",
       "выше среднего     1483\n",
       "Name: total_income_category, dtype: int64"
      ]
     },
     "execution_count": 7,
     "metadata": {},
     "output_type": "execute_result"
    }
   ],
   "source": [
    "data['total_income_category'].value_counts()"
   ]
  },
  {
   "cell_type": "markdown",
   "metadata": {},
   "source": [
    "### Шаг 3. Ответьте на вопросы"
   ]
  },
  {
   "cell_type": "markdown",
   "metadata": {},
   "source": [
    "- Есть ли зависимость между наличием детей и возвратом кредита в срок?"
   ]
  },
  {
   "cell_type": "code",
   "execution_count": 8,
   "metadata": {},
   "outputs": [
    {
     "name": "stdout",
     "output_type": "stream",
     "text": [
      "debt                   0     1  percentage_return\n",
      "children_category                                \n",
      "без детей          13028  1063          92.456178\n",
      "многодетные          349    31          91.842105\n",
      "семья с детьми      6336   647          90.734641\n"
     ]
    }
   ],
   "source": [
    "data_pivot_children = data.pivot_table(index = ['children_category'], columns='debt', values= 'total_income', aggfunc= 'count')\n",
    "\n",
    "data_pivot_children['percentage_return'] = data_pivot_children[0] / (data_pivot_children[0] + data_pivot_children[1]) * 100\n",
    "\n",
    "print(data_pivot_children)"
   ]
  },
  {
   "cell_type": "markdown",
   "metadata": {},
   "source": [
    "### Вывод"
   ]
  },
  {
   "cell_type": "markdown",
   "metadata": {},
   "source": [
    "#Построение сводной таблицы для определения связи между наличием детей и возвратом денег в срок. Группируем по столбцу с категориями кол-ва детей, столбец с значениями кто отдавал кредит в срок,а кто нет, значения - количество людей по столбцу с доходом.\n",
    "\n",
    "#Добавление к сводной таблице столбца с процентным соотношением случаев возврата денег вовремя к общему числу по категории наличии детей.\n",
    "\n",
    "#Самый высокий процент возврата у семей без детей т.к. им гораздо проще следить за домашним бюджетом и как следствие выплачивать кредит вовремя.\n",
    "#Семьи с большим количеством детей хоть и обращаются за кредитами реже, но и имеют самый низкий процент по возврату в срок.\n"
   ]
  },
  {
   "cell_type": "markdown",
   "metadata": {},
   "source": [
    "- Есть ли зависимость между семейным положением и возвратом кредита в срок?"
   ]
  },
  {
   "cell_type": "code",
   "execution_count": 9,
   "metadata": {},
   "outputs": [
    {
     "data": {
      "text/html": [
       "<div>\n",
       "<style scoped>\n",
       "    .dataframe tbody tr th:only-of-type {\n",
       "        vertical-align: middle;\n",
       "    }\n",
       "\n",
       "    .dataframe tbody tr th {\n",
       "        vertical-align: top;\n",
       "    }\n",
       "\n",
       "    .dataframe thead th {\n",
       "        text-align: right;\n",
       "    }\n",
       "</style>\n",
       "<table border=\"1\" class=\"dataframe\">\n",
       "  <thead>\n",
       "    <tr style=\"text-align: right;\">\n",
       "      <th></th>\n",
       "      <th>debt</th>\n",
       "      <th>0</th>\n",
       "      <th>1</th>\n",
       "      <th>percentage_return</th>\n",
       "    </tr>\n",
       "    <tr>\n",
       "      <th>family_status_id</th>\n",
       "      <th>family_status</th>\n",
       "      <th></th>\n",
       "      <th></th>\n",
       "      <th></th>\n",
       "    </tr>\n",
       "  </thead>\n",
       "  <tbody>\n",
       "    <tr>\n",
       "      <td>0</td>\n",
       "      <td>женат / замужем</td>\n",
       "      <td>11408</td>\n",
       "      <td>931</td>\n",
       "      <td>92.454818</td>\n",
       "    </tr>\n",
       "    <tr>\n",
       "      <td>1</td>\n",
       "      <td>гражданский брак</td>\n",
       "      <td>3763</td>\n",
       "      <td>388</td>\n",
       "      <td>90.652855</td>\n",
       "    </tr>\n",
       "    <tr>\n",
       "      <td>2</td>\n",
       "      <td>вдовец / вдова</td>\n",
       "      <td>896</td>\n",
       "      <td>63</td>\n",
       "      <td>93.430657</td>\n",
       "    </tr>\n",
       "    <tr>\n",
       "      <td>3</td>\n",
       "      <td>в разводе</td>\n",
       "      <td>1110</td>\n",
       "      <td>85</td>\n",
       "      <td>92.887029</td>\n",
       "    </tr>\n",
       "    <tr>\n",
       "      <td>4</td>\n",
       "      <td>Не женат / не замужем</td>\n",
       "      <td>2536</td>\n",
       "      <td>274</td>\n",
       "      <td>90.249110</td>\n",
       "    </tr>\n",
       "  </tbody>\n",
       "</table>\n",
       "</div>"
      ],
      "text/plain": [
       "debt                                        0    1  percentage_return\n",
       "family_status_id family_status                                       \n",
       "0                женат / замужем        11408  931          92.454818\n",
       "1                гражданский брак        3763  388          90.652855\n",
       "2                вдовец / вдова           896   63          93.430657\n",
       "3                в разводе               1110   85          92.887029\n",
       "4                Не женат / не замужем   2536  274          90.249110"
      ]
     },
     "execution_count": 9,
     "metadata": {},
     "output_type": "execute_result"
    }
   ],
   "source": [
    "data_family_status = data.pivot_table(index = ['family_status_id', 'family_status'], columns = 'debt', values= 'total_income', aggfunc='count')\n",
    "\n",
    "data_family_status['percentage_return'] = data_family_status[0] / (data_family_status[0] + data_family_status[1]) * 100\n",
    "\n",
    "data_family_status"
   ]
  },
  {
   "cell_type": "markdown",
   "metadata": {},
   "source": [
    "### Вывод"
   ]
  },
  {
   "cell_type": "markdown",
   "metadata": {},
   "source": [
    "#Построение сводной таблицы для определения связи между семейным положениеми возвратом денег в срок. Группируем по столбцам с id семейного статуса и самому семейному статусу, столбец с значениями кто отдавал кредит в срок,а кто нет, значения - количество людей по столбцу с доходом.\n",
    "\n",
    "#Добавление к сводной таблице столбец с процентным соотношением случаев возврата денег вовремя к общему числу по категории семейного статуса.\n",
    "\n",
    "#Самый высокий процент возврата кредита показала категория \"вдовец / вдова\". Судя по общему числу заявок на кредиты от данной группы людей, в денежных средставах они нуждаются меньше всех прочих и как следствие испытывают меньше всего проблем с их возвратом.\n",
    "\n"
   ]
  },
  {
   "cell_type": "markdown",
   "metadata": {},
   "source": [
    "- Есть ли зависимость между уровнем дохода и возвратом кредита в срок?"
   ]
  },
  {
   "cell_type": "code",
   "execution_count": 10,
   "metadata": {},
   "outputs": [
    {
     "data": {
      "text/html": [
       "<div>\n",
       "<style scoped>\n",
       "    .dataframe tbody tr th:only-of-type {\n",
       "        vertical-align: middle;\n",
       "    }\n",
       "\n",
       "    .dataframe tbody tr th {\n",
       "        vertical-align: top;\n",
       "    }\n",
       "\n",
       "    .dataframe thead th {\n",
       "        text-align: right;\n",
       "    }\n",
       "</style>\n",
       "<table border=\"1\" class=\"dataframe\">\n",
       "  <thead>\n",
       "    <tr style=\"text-align: right;\">\n",
       "      <th>debt</th>\n",
       "      <th>0</th>\n",
       "      <th>1</th>\n",
       "      <th>percentage_return</th>\n",
       "    </tr>\n",
       "    <tr>\n",
       "      <th>total_income_category</th>\n",
       "      <th></th>\n",
       "      <th></th>\n",
       "      <th></th>\n",
       "    </tr>\n",
       "  </thead>\n",
       "  <tbody>\n",
       "    <tr>\n",
       "      <td>выше среднего</td>\n",
       "      <td>1377</td>\n",
       "      <td>106</td>\n",
       "      <td>92.852326</td>\n",
       "    </tr>\n",
       "    <tr>\n",
       "      <td>средний</td>\n",
       "      <td>8143</td>\n",
       "      <td>698</td>\n",
       "      <td>92.104966</td>\n",
       "    </tr>\n",
       "    <tr>\n",
       "      <td>ниже среднего</td>\n",
       "      <td>10193</td>\n",
       "      <td>937</td>\n",
       "      <td>91.581312</td>\n",
       "    </tr>\n",
       "  </tbody>\n",
       "</table>\n",
       "</div>"
      ],
      "text/plain": [
       "debt                       0    1  percentage_return\n",
       "total_income_category                               \n",
       "выше среднего           1377  106          92.852326\n",
       "средний                 8143  698          92.104966\n",
       "ниже среднего          10193  937          91.581312"
      ]
     },
     "execution_count": 10,
     "metadata": {},
     "output_type": "execute_result"
    }
   ],
   "source": [
    "data_total_income_category = data.pivot_table(index=['total_income_category'], columns='debt', values='total_income', aggfunc='count')\n",
    "\n",
    "data_total_income_category['percentage_return'] = data_total_income_category[0] / (data_total_income_category[0] + data_total_income_category[1]) * 100\n",
    "data_total_income_category.sort_values('percentage_return', ascending= False)"
   ]
  },
  {
   "cell_type": "markdown",
   "metadata": {},
   "source": [
    "### Вывод"
   ]
  },
  {
   "cell_type": "markdown",
   "metadata": {},
   "source": [
    "#Построение сводной таблицы для определения связи между уровнем дохода и возвратом денег в срок.Группируем по столбцу с категорией уровня доходов, столбец с значениями кто отдавал кредит в срок,а кто нет, значения - количество людей по столбцу с доходом.\n",
    "\n",
    "#Самый высокий процент показала категория людей с уровнем дохода \"выше среднего\".\n",
    "\n",
    "#Предполагаю, что людям с высоким уровнем дохода проще найти средства для погашения кредитов нежели двум другим категориям. Линейная прогрессия тому подтверждение.\n"
   ]
  },
  {
   "cell_type": "markdown",
   "metadata": {},
   "source": [
    "- Как разные цели кредита влияют на его возврат в срок?"
   ]
  },
  {
   "cell_type": "markdown",
   "metadata": {},
   "source": [
    "### Вывод"
   ]
  },
  {
   "cell_type": "markdown",
   "metadata": {},
   "source": [
    "#Построение сводной таблицы для определения связи между целью получения кредита и возвратом денег в срок. Группируем по столбцу с целевыми категориями, столбец с значениями кто отдавал кредит в срок,а кто нет, значения - количество людей по столбцу с доходом.\n",
    "\n",
    "#Добавление к сводной таблице столбца с процентным соотношением количества случаев возврата денег в срок к общему числу выданых по категории цели получения кредита.\n",
    "\n",
    "#Самый высокий процент по возврату показала категория людей, которые берут кредит на недвижимость.\n",
    "#Скорее всего так получается по причине того, что к покупке жилья люди подходят более осознано и вдумчиво.\n"
   ]
  },
  {
   "cell_type": "markdown",
   "metadata": {},
   "source": [
    "### Шаг 4. Общий вывод"
   ]
  },
  {
   "cell_type": "markdown",
   "metadata": {},
   "source": [
    "Если основываться вычислениях по заданным вопросам, то можно сделать следующие выводы: \n",
    "Наименьшее влияние на погашение кредита в срок оказывает уровень дохода кредитуемого.\n",
    "Самое большое расхождение в рамках определенных категорий показала метрика с семейным статусом.\n",
    "Ни по одной из категорий небыл выявлен случай не выплаты кредита в срок ниже вероятности в 89.47%.\n"
   ]
  }
 ],
 "metadata": {
  "kernelspec": {
   "display_name": "Python 3",
   "language": "python",
   "name": "python3"
  },
  "language_info": {
   "codemirror_mode": {
    "name": "ipython",
    "version": 3
   },
   "file_extension": ".py",
   "mimetype": "text/x-python",
   "name": "python",
   "nbconvert_exporter": "python",
   "pygments_lexer": "ipython3",
   "version": "3.7.6"
  }
 },
 "nbformat": 4,
 "nbformat_minor": 2
}
